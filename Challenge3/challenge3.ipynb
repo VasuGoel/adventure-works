{
 "cells": [
  {
   "cell_type": "markdown",
   "metadata": {},
   "source": [
    "# Challenge 3\n",
    "***"
   ]
  },
  {
   "cell_type": "code",
   "execution_count": 1,
   "metadata": {},
   "outputs": [],
   "source": [
    "# Load the packages required to run this notebook\n",
    "import pandas as pd\n",
    "import matplotlib.pyplot as plt\n",
    "import seaborn as sns\n",
    "import numpy as np\n",
    "import numpy.random as nr\n",
    "import math\n",
    "from sklearn import preprocessing\n",
    "import sklearn.model_selection as ms\n",
    "from sklearn import linear_model\n",
    "import sklearn.metrics as sklm\n",
    "import scipy.stats as ss\n",
    "\n",
    "%matplotlib inline"
   ]
  },
  {
   "cell_type": "code",
   "execution_count": 2,
   "metadata": {},
   "outputs": [],
   "source": [
    "# Load the datasets\n",
    "adventure_works = pd.read_csv('../adventure_works.csv', parse_dates = ['BirthDate'])"
   ]
  },
  {
   "cell_type": "code",
   "execution_count": 3,
   "metadata": {},
   "outputs": [
    {
     "data": {
      "text/plain": [
       "Index(['CustomerID', 'FirstName', 'LastName', 'AddressLine1', 'City',\n",
       "       'StateProvinceName', 'CountryRegionName', 'PostalCode', 'PhoneNumber',\n",
       "       'BirthDate', 'Education', 'Occupation', 'Gender', 'MaritalStatus',\n",
       "       'HomeOwnerFlag', 'NumberCarsOwned', 'NumberChildrenAtHome',\n",
       "       'TotalChildren', 'YearlyIncome', 'AveMonthSpend', 'BikeBuyer', 'Age',\n",
       "       'AgeGroup'],\n",
       "      dtype='object')"
      ]
     },
     "execution_count": 3,
     "metadata": {},
     "output_type": "execute_result"
    }
   ],
   "source": [
    "adventure_works.columns"
   ]
  },
  {
   "cell_type": "code",
   "execution_count": 4,
   "metadata": {},
   "outputs": [],
   "source": [
    "# Drop columns with minimal predictive power and 'BikeBuyer' since we don't have that at the time of evaluation\n",
    "adventure_works.drop(['CustomerID', 'FirstName', 'LastName', 'AddressLine1', 'PostalCode', 'PhoneNumber',\n",
    "                      'BirthDate', 'BikeBuyer'], axis=1, inplace=True)"
   ]
  },
  {
   "cell_type": "code",
   "execution_count": 5,
   "metadata": {},
   "outputs": [
    {
     "data": {
      "text/html": [
       "<div>\n",
       "<style scoped>\n",
       "    .dataframe tbody tr th:only-of-type {\n",
       "        vertical-align: middle;\n",
       "    }\n",
       "\n",
       "    .dataframe tbody tr th {\n",
       "        vertical-align: top;\n",
       "    }\n",
       "\n",
       "    .dataframe thead th {\n",
       "        text-align: right;\n",
       "    }\n",
       "</style>\n",
       "<table border=\"1\" class=\"dataframe\">\n",
       "  <thead>\n",
       "    <tr style=\"text-align: right;\">\n",
       "      <th></th>\n",
       "      <th>City</th>\n",
       "      <th>StateProvinceName</th>\n",
       "      <th>CountryRegionName</th>\n",
       "      <th>Education</th>\n",
       "      <th>Occupation</th>\n",
       "      <th>Gender</th>\n",
       "      <th>MaritalStatus</th>\n",
       "      <th>HomeOwnerFlag</th>\n",
       "      <th>NumberCarsOwned</th>\n",
       "      <th>NumberChildrenAtHome</th>\n",
       "      <th>TotalChildren</th>\n",
       "      <th>YearlyIncome</th>\n",
       "      <th>AveMonthSpend</th>\n",
       "      <th>Age</th>\n",
       "      <th>AgeGroup</th>\n",
       "    </tr>\n",
       "  </thead>\n",
       "  <tbody>\n",
       "    <tr>\n",
       "      <th>0</th>\n",
       "      <td>Rockhampton</td>\n",
       "      <td>Queensland</td>\n",
       "      <td>Australia</td>\n",
       "      <td>Bachelors</td>\n",
       "      <td>Professional</td>\n",
       "      <td>M</td>\n",
       "      <td>M</td>\n",
       "      <td>1</td>\n",
       "      <td>0</td>\n",
       "      <td>0</td>\n",
       "      <td>2</td>\n",
       "      <td>137947</td>\n",
       "      <td>89</td>\n",
       "      <td>31</td>\n",
       "      <td>Between 25 and 45 years</td>\n",
       "    </tr>\n",
       "    <tr>\n",
       "      <th>1</th>\n",
       "      <td>Seaford</td>\n",
       "      <td>Victoria</td>\n",
       "      <td>Australia</td>\n",
       "      <td>Bachelors</td>\n",
       "      <td>Professional</td>\n",
       "      <td>M</td>\n",
       "      <td>S</td>\n",
       "      <td>0</td>\n",
       "      <td>1</td>\n",
       "      <td>3</td>\n",
       "      <td>3</td>\n",
       "      <td>101141</td>\n",
       "      <td>117</td>\n",
       "      <td>32</td>\n",
       "      <td>Between 25 and 45 years</td>\n",
       "    </tr>\n",
       "    <tr>\n",
       "      <th>2</th>\n",
       "      <td>Hobart</td>\n",
       "      <td>Tasmania</td>\n",
       "      <td>Australia</td>\n",
       "      <td>Bachelors</td>\n",
       "      <td>Professional</td>\n",
       "      <td>M</td>\n",
       "      <td>M</td>\n",
       "      <td>1</td>\n",
       "      <td>1</td>\n",
       "      <td>3</td>\n",
       "      <td>3</td>\n",
       "      <td>91945</td>\n",
       "      <td>123</td>\n",
       "      <td>32</td>\n",
       "      <td>Between 25 and 45 years</td>\n",
       "    </tr>\n",
       "    <tr>\n",
       "      <th>3</th>\n",
       "      <td>North Ryde</td>\n",
       "      <td>New South Wales</td>\n",
       "      <td>Australia</td>\n",
       "      <td>Bachelors</td>\n",
       "      <td>Professional</td>\n",
       "      <td>F</td>\n",
       "      <td>S</td>\n",
       "      <td>0</td>\n",
       "      <td>1</td>\n",
       "      <td>0</td>\n",
       "      <td>0</td>\n",
       "      <td>86688</td>\n",
       "      <td>50</td>\n",
       "      <td>29</td>\n",
       "      <td>Between 25 and 45 years</td>\n",
       "    </tr>\n",
       "    <tr>\n",
       "      <th>4</th>\n",
       "      <td>Wollongong</td>\n",
       "      <td>New South Wales</td>\n",
       "      <td>Australia</td>\n",
       "      <td>Bachelors</td>\n",
       "      <td>Professional</td>\n",
       "      <td>F</td>\n",
       "      <td>S</td>\n",
       "      <td>1</td>\n",
       "      <td>4</td>\n",
       "      <td>5</td>\n",
       "      <td>5</td>\n",
       "      <td>92771</td>\n",
       "      <td>95</td>\n",
       "      <td>29</td>\n",
       "      <td>Between 25 and 45 years</td>\n",
       "    </tr>\n",
       "  </tbody>\n",
       "</table>\n",
       "</div>"
      ],
      "text/plain": [
       "          City StateProvinceName CountryRegionName   Education    Occupation  \\\n",
       "0  Rockhampton        Queensland         Australia  Bachelors   Professional   \n",
       "1      Seaford          Victoria         Australia  Bachelors   Professional   \n",
       "2       Hobart          Tasmania         Australia  Bachelors   Professional   \n",
       "3   North Ryde   New South Wales         Australia  Bachelors   Professional   \n",
       "4   Wollongong   New South Wales         Australia  Bachelors   Professional   \n",
       "\n",
       "  Gender MaritalStatus  HomeOwnerFlag  NumberCarsOwned  NumberChildrenAtHome  \\\n",
       "0      M             M              1                0                     0   \n",
       "1      M             S              0                1                     3   \n",
       "2      M             M              1                1                     3   \n",
       "3      F             S              0                1                     0   \n",
       "4      F             S              1                4                     5   \n",
       "\n",
       "   TotalChildren  YearlyIncome  AveMonthSpend  Age                 AgeGroup  \n",
       "0              2        137947             89   31  Between 25 and 45 years  \n",
       "1              3        101141            117   32  Between 25 and 45 years  \n",
       "2              3         91945            123   32  Between 25 and 45 years  \n",
       "3              0         86688             50   29  Between 25 and 45 years  \n",
       "4              5         92771             95   29  Between 25 and 45 years  "
      ]
     },
     "execution_count": 5,
     "metadata": {},
     "output_type": "execute_result"
    }
   ],
   "source": [
    "adventure_works.head()"
   ]
  },
  {
   "cell_type": "code",
   "execution_count": 6,
   "metadata": {},
   "outputs": [],
   "source": [
    "# Transform numeric features to make their distributions symmetric\n",
    "adventure_works['SqrtYearlyIncome'] = np.sqrt(adventure_works['YearlyIncome'])\n",
    "adventure_works['LogAveMonthSpend'] = np.log(adventure_works['AveMonthSpend'])"
   ]
  },
  {
   "cell_type": "markdown",
   "metadata": {},
   "source": [
    "## Prepare data for scikit-learn model"
   ]
  },
  {
   "cell_type": "code",
   "execution_count": 7,
   "metadata": {},
   "outputs": [],
   "source": [
    "# Create numpy array of label values\n",
    "Labels = np.array(adventure_works['LogAveMonthSpend'])\n",
    "Labels = Labels.reshape(Labels.shape[0],)"
   ]
  },
  {
   "cell_type": "code",
   "execution_count": 8,
   "metadata": {},
   "outputs": [
    {
     "name": "stdout",
     "output_type": "stream",
     "text": [
      "(16404, 37)\n",
      "[[1. 0. 0. 0. 0. 0. 0. 0. 1. 0. 0. 1. 1. 0. 0. 1. 1. 0. 0. 0. 1. 0. 0. 0.\n",
      "  0. 1. 0. 0. 0. 0. 0. 0. 0. 1. 0. 0. 0.]\n",
      " [1. 0. 0. 0. 0. 0. 0. 0. 1. 0. 0. 1. 0. 1. 1. 0. 1. 0. 0. 0. 0. 1. 0. 0.\n",
      "  0. 0. 0. 0. 1. 0. 0. 0. 0. 0. 1. 0. 0.]]\n"
     ]
    }
   ],
   "source": [
    "import warnings\n",
    "warnings.filterwarnings('ignore')\n",
    "\n",
    "# Create model matrix\n",
    "def encode_string(cat_features):\n",
    "    ## First encode the strings to numeric categories\n",
    "    enc = preprocessing.LabelEncoder()\n",
    "    enc.fit(cat_features)\n",
    "    enc_cat_features = enc.transform(cat_features)\n",
    "    ## Now, apply one hot encoding\n",
    "    ohe = preprocessing.OneHotEncoder()\n",
    "    encoded = ohe.fit(enc_cat_features.reshape(-1,1))\n",
    "    return encoded.transform(enc_cat_features.reshape(-1,1)).toarray()\n",
    "\n",
    "categorical_columns = ['Occupation', 'Gender', 'MaritalStatus', 'HomeOwnerFlag', 'AgeGroup', \n",
    "                       'NumberCarsOwned', 'NumberChildrenAtHome', 'TotalChildren']\n",
    "\n",
    "Features = encode_string(adventure_works['Education'])\n",
    "for col in categorical_columns:\n",
    "    temp = encode_string(adventure_works[col])\n",
    "    Features = np.concatenate([Features, temp], axis = 1)\n",
    "\n",
    "print(Features.shape)\n",
    "print(Features[:2, :])    "
   ]
  },
  {
   "cell_type": "code",
   "execution_count": 9,
   "metadata": {},
   "outputs": [
    {
     "name": "stdout",
     "output_type": "stream",
     "text": [
      "(16404, 38)\n",
      "[[  1.           0.           0.           0.           0.\n",
      "    0.           0.           0.           1.           0.\n",
      "    0.           1.           1.           0.           0.\n",
      "    1.           1.           0.           0.           0.\n",
      "    1.           0.           0.           0.           0.\n",
      "    1.           0.           0.           0.           0.\n",
      "    0.           0.           0.           1.           0.\n",
      "    0.           0.         371.41216997]\n",
      " [  1.           0.           0.           0.           0.\n",
      "    0.           0.           0.           1.           0.\n",
      "    0.           1.           0.           1.           1.\n",
      "    0.           1.           0.           0.           0.\n",
      "    0.           1.           0.           0.           0.\n",
      "    0.           0.           0.           1.           0.\n",
      "    0.           0.           0.           0.           1.\n",
      "    0.           0.         318.02672844]]\n"
     ]
    }
   ],
   "source": [
    "# Concatenate numeric features to model matrix\n",
    "Features = np.concatenate([Features, np.array(adventure_works[['SqrtYearlyIncome']])], axis = 1)\n",
    "print(Features.shape)\n",
    "print(Features[:2, :])"
   ]
  },
  {
   "cell_type": "code",
   "execution_count": 10,
   "metadata": {},
   "outputs": [
    {
     "name": "stdout",
     "output_type": "stream",
     "text": [
      "(16404, 38)\n",
      "(16404,)\n"
     ]
    }
   ],
   "source": [
    "print(Features.shape)\n",
    "print(Labels.shape)"
   ]
  },
  {
   "cell_type": "markdown",
   "metadata": {},
   "source": [
    "# `Linear Regression Model`"
   ]
  },
  {
   "cell_type": "code",
   "execution_count": 11,
   "metadata": {},
   "outputs": [],
   "source": [
    "## Randomly sample cases to create independent training and test data\n",
    "nr.seed(9988)\n",
    "indx = range(Features.shape[0])\n",
    "indx = ms.train_test_split(indx, test_size = 0.2)\n",
    "X_train = Features[indx[0],:]\n",
    "y_train = np.ravel(Labels[indx[0]])\n",
    "X_test = Features[indx[1],:]\n",
    "y_test = np.ravel(Labels[indx[1]])"
   ]
  },
  {
   "cell_type": "code",
   "execution_count": 12,
   "metadata": {},
   "outputs": [
    {
     "name": "stdout",
     "output_type": "stream",
     "text": [
      "(13123, 38)\n",
      "(13123,)\n",
      "(3281, 38)\n",
      "(3281,)\n"
     ]
    }
   ],
   "source": [
    "print(X_train.shape)\n",
    "print(y_train.shape)\n",
    "print(X_test.shape)\n",
    "print(y_test.shape)"
   ]
  },
  {
   "cell_type": "code",
   "execution_count": 13,
   "metadata": {},
   "outputs": [
    {
     "data": {
      "text/plain": [
       "array([[ 0.        ,  1.        ,  0.        ,  0.        ,  0.        ,\n",
       "         0.        ,  1.        ,  0.        ,  0.        ,  0.        ,\n",
       "         1.        ,  0.        ,  1.        ,  0.        ,  0.        ,\n",
       "         1.        ,  1.        ,  0.        ,  0.        ,  0.        ,\n",
       "         0.        ,  0.        ,  0.        ,  1.        ,  0.        ,\n",
       "         0.        ,  1.        ,  0.        ,  0.        ,  0.        ,\n",
       "         0.        ,  0.        ,  1.        ,  0.        ,  0.        ,\n",
       "         0.        ,  0.        ,  1.70392457],\n",
       "       [ 0.        ,  0.        ,  0.        ,  1.        ,  0.        ,\n",
       "         0.        ,  0.        ,  1.        ,  0.        ,  0.        ,\n",
       "         0.        ,  1.        ,  1.        ,  0.        ,  1.        ,\n",
       "         0.        ,  1.        ,  0.        ,  0.        ,  0.        ,\n",
       "         1.        ,  0.        ,  0.        ,  0.        ,  0.        ,\n",
       "         0.        ,  0.        ,  1.        ,  0.        ,  0.        ,\n",
       "         0.        ,  0.        ,  0.        ,  1.        ,  0.        ,\n",
       "         0.        ,  0.        , -0.48448865]])"
      ]
     },
     "execution_count": 13,
     "metadata": {},
     "output_type": "execute_result"
    }
   ],
   "source": [
    "# Scale numeric features\n",
    "scaler = preprocessing.StandardScaler().fit(X_train[:,37:])\n",
    "X_train[:,37:] = scaler.transform(X_train[:,37:])\n",
    "X_test[:,37:] = scaler.transform(X_test[:,37:])\n",
    "X_train[:2,]"
   ]
  },
  {
   "cell_type": "code",
   "execution_count": 14,
   "metadata": {},
   "outputs": [
    {
     "data": {
      "text/plain": [
       "LinearRegression(copy_X=True, fit_intercept=True, n_jobs=None, normalize=False)"
      ]
     },
     "execution_count": 14,
     "metadata": {},
     "output_type": "execute_result"
    }
   ],
   "source": [
    "## define and fit the linear regression model\n",
    "lin_mod = linear_model.LinearRegression()\n",
    "lin_mod.fit(X_train, y_train)"
   ]
  },
  {
   "cell_type": "code",
   "execution_count": 15,
   "metadata": {},
   "outputs": [
    {
     "name": "stdout",
     "output_type": "stream",
     "text": [
      "40355117652.43488\n",
      "[ 3.89527920e+10  3.89527920e+10  3.89527920e+10  3.89527920e+10\n",
      "  3.89527920e+10 -2.35047744e+10 -2.35047744e+10 -2.35047744e+10\n",
      " -2.35047744e+10 -2.35047744e+10 -1.51275455e+10 -1.51275455e+10\n",
      " -4.10799028e+10 -4.10799028e+10  9.10157498e+09  9.10157498e+09\n",
      " -2.68618120e+09 -2.68618120e+09 -2.68618121e+09 -2.68618120e+09\n",
      "  2.47680251e+10  2.47680251e+10  2.47680251e+10  2.47680251e+10\n",
      "  2.47680251e+10 -1.52562083e+10 -1.52562083e+10 -1.52562083e+10\n",
      " -1.52562083e+10 -1.52562083e+10 -1.52562083e+10 -1.55228976e+10\n",
      " -1.55228976e+10 -1.55228976e+10 -1.55228976e+10 -1.55228976e+10\n",
      " -1.55228976e+10  9.77062934e-02]\n"
     ]
    }
   ],
   "source": [
    "# Print model coefficients\n",
    "print(lin_mod.intercept_)\n",
    "print(lin_mod.coef_)"
   ]
  },
  {
   "cell_type": "code",
   "execution_count": 16,
   "metadata": {},
   "outputs": [
    {
     "name": "stdout",
     "output_type": "stream",
     "text": [
      "Mean Square Error      = 0.002709159190233819\n",
      "Root Mean Square Error = 0.05204958395831632\n",
      "Mean Absolute Error    = 0.03913959486736695\n",
      "Median Absolute Error  = 0.03050577963759782\n",
      "R^2                    = 0.977459137856707\n",
      "Adjusted R^2           = 0.9772019648997838\n"
     ]
    }
   ],
   "source": [
    "# Print several useful metrics for regression\n",
    "def print_metrics(y_true, y_predicted, n_parameters):\n",
    "    ## First compute R^2 and the adjusted R^2\n",
    "    r2 = sklm.r2_score(y_true, y_predicted)\n",
    "    r2_adj = r2 - (n_parameters - 1)/(y_true.shape[0] - n_parameters) * (1 - r2)\n",
    "    \n",
    "    ## Print the usual metrics and the R^2 values\n",
    "    print('Mean Square Error      = ' + str(sklm.mean_squared_error(y_true, y_predicted)))\n",
    "    print('Root Mean Square Error = ' + str(math.sqrt(sklm.mean_squared_error(y_true, y_predicted))))\n",
    "    print('Mean Absolute Error    = ' + str(sklm.mean_absolute_error(y_true, y_predicted)))\n",
    "    print('Median Absolute Error  = ' + str(sklm.median_absolute_error(y_true, y_predicted)))\n",
    "    print('R^2                    = ' + str(r2))\n",
    "    print('Adjusted R^2           = ' + str(r2_adj))\n",
    "   \n",
    "y_score = lin_mod.predict(X_test) \n",
    "print_metrics(y_test, y_score, 38)    "
   ]
  },
  {
   "cell_type": "code",
   "execution_count": 17,
   "metadata": {},
   "outputs": [
    {
     "data": {
      "image/png": "[encoded data removed]",
      "text/plain": [
       "<Figure size 432x288 with 1 Axes>"
      ]
     },
     "metadata": {
      "needs_background": "light"
     },
     "output_type": "display_data"
    }
   ],
   "source": [
    "# Plot histogram of residuals\n",
    "def hist_resids(y_test, y_score):\n",
    "    ## first compute vector of residuals. \n",
    "    resids = np.subtract(y_test.reshape(-1,1), y_score.reshape(-1,1))\n",
    "    ## now make the residual plots\n",
    "    sns.distplot(resids)\n",
    "    plt.title('Histogram of residuals')\n",
    "    plt.xlabel('Residual value')\n",
    "    plt.ylabel('count')\n",
    "    \n",
    "hist_resids(y_test, y_score)"
   ]
  },
  {
   "cell_type": "code",
   "execution_count": 18,
   "metadata": {},
   "outputs": [
    {
     "data": {
      "image/png": "[encoded data removed]",
      "text/plain": [
       "<Figure size 432x288 with 1 Axes>"
      ]
     },
     "metadata": {
      "needs_background": "light"
     },
     "output_type": "display_data"
    }
   ],
   "source": [
    "# Display Q-Q Normal plot\n",
    "def resid_qq(y_test, y_score):\n",
    "    ## first compute vector of residuals. \n",
    "    resids = np.subtract(y_test.reshape(-1,1), y_score.reshape(-1,1))\n",
    "    ## now make the residual plots\n",
    "    ss.probplot(resids.flatten(), plot = plt)\n",
    "    plt.title('Residuals vs. predicted values')\n",
    "    plt.xlabel('Predicted values')\n",
    "    plt.ylabel('Residual')\n",
    "    \n",
    "resid_qq(y_test, y_score)"
   ]
  },
  {
   "cell_type": "code",
   "execution_count": 19,
   "metadata": {},
   "outputs": [
    {
     "data": {
      "image/png": "[encoded data removed]",
      "text/plain": [
       "<Figure size 432x288 with 1 Axes>"
      ]
     },
     "metadata": {
      "needs_background": "light"
     },
     "output_type": "display_data"
    }
   ],
   "source": [
    "# Plot of residuals vs predicted values\n",
    "def resid_plot(y_test, y_score):\n",
    "    ## first compute vector of residuals. \n",
    "    resids = np.subtract(y_test.reshape(-1,1), y_score.reshape(-1,1))\n",
    "    ## now make the residual plots\n",
    "    sns.regplot(y_score, resids, fit_reg=False)\n",
    "    plt.title('Residuals vs. predicted values')\n",
    "    plt.xlabel('Predicted values')\n",
    "    plt.ylabel('Residual')\n",
    "\n",
    "resid_plot(y_test, y_score) "
   ]
  },
  {
   "cell_type": "code",
   "execution_count": 20,
   "metadata": {},
   "outputs": [
    {
     "data": {
      "image/png": "[encoded data removed]",
      "text/plain": [
       "<Figure size 432x288 with 1 Axes>"
      ]
     },
     "metadata": {
      "needs_background": "light"
     },
     "output_type": "display_data"
    }
   ],
   "source": [
    "# Plot of residuals vs exp(predicted values) (Note: predictions are LogAvgMonthSpend)\n",
    "y_score_untransform = np.exp(y_score)\n",
    "y_test_untransform = np.exp(y_test)\n",
    "resid_plot(y_test_untransform, y_score_untransform)"
   ]
  },
  {
   "cell_type": "markdown",
   "metadata": {},
   "source": [
    "### Evaluating logistic regression model on AW_test.csv"
   ]
  },
  {
   "cell_type": "code",
   "execution_count": 21,
   "metadata": {},
   "outputs": [
    {
     "data": {
      "text/plain": [
       "Index(['CustomerID', 'Title', 'FirstName', 'MiddleName', 'LastName', 'Suffix',\n",
       "       'AddressLine1', 'AddressLine2', 'City', 'StateProvinceName',\n",
       "       'CountryRegionName', 'PostalCode', 'PhoneNumber', 'BirthDate',\n",
       "       'Education', 'Occupation', 'Gender', 'MaritalStatus', 'HomeOwnerFlag',\n",
       "       'NumberCarsOwned', 'NumberChildrenAtHome', 'TotalChildren',\n",
       "       'YearlyIncome'],\n",
       "      dtype='object')"
      ]
     },
     "execution_count": 21,
     "metadata": {},
     "output_type": "execute_result"
    }
   ],
   "source": [
    "evaluation = pd.read_csv('../Resources/AW_test.csv', parse_dates = ['BirthDate'])\n",
    "evaluation.columns"
   ]
  },
  {
   "cell_type": "code",
   "execution_count": 22,
   "metadata": {},
   "outputs": [],
   "source": [
    "# Prepare evaluation data for scikit-learn model\n",
    "evaluation['Age'] = (pd.to_datetime(\"1998-01-01\") - evaluation['BirthDate']) / np.timedelta64(1,'Y')\n",
    "evaluation['Age'] = evaluation['Age'].astype('int64')\n",
    "\n",
    "# Categorize customers in specific age groups\n",
    "def age_group(row):\n",
    "    if row['Age'] < 25:\n",
    "        return \"Under 25 years\"\n",
    "    if row['Age'] >= 25 and row['Age'] < 45:\n",
    "        return \"Between 25 and 45 years\"\n",
    "    if row['Age'] >= 45 and row['Age'] <= 55:\n",
    "        return \"Between 45 and 55 years\"\n",
    "    else:\n",
    "        return \"Over 55 years\"\n",
    "\n",
    "evaluation['AgeGroup'] = evaluation.apply(lambda row: age_group(row), axis=1)\n",
    "evaluation['AgeGroup'].unique()\n",
    "\n",
    "# Sqrt transform YearlyIncome values\n",
    "evaluation['SqrtYearlyIncome'] = np.sqrt(evaluation['YearlyIncome'])"
   ]
  },
  {
   "cell_type": "code",
   "execution_count": 23,
   "metadata": {},
   "outputs": [],
   "source": [
    "evaluation.drop(['CustomerID', 'Title', 'FirstName', 'MiddleName', 'LastName', 'Suffix', 'AddressLine1', \n",
    "                 'AddressLine2', 'City', 'StateProvinceName', 'CountryRegionName', 'PostalCode', 'PhoneNumber',\n",
    "                 'BirthDate', 'Age'], axis=1, inplace=True)"
   ]
  },
  {
   "cell_type": "code",
   "execution_count": 24,
   "metadata": {},
   "outputs": [
    {
     "data": {
      "text/html": [
       "<div>\n",
       "<style scoped>\n",
       "    .dataframe tbody tr th:only-of-type {\n",
       "        vertical-align: middle;\n",
       "    }\n",
       "\n",
       "    .dataframe tbody tr th {\n",
       "        vertical-align: top;\n",
       "    }\n",
       "\n",
       "    .dataframe thead th {\n",
       "        text-align: right;\n",
       "    }\n",
       "</style>\n",
       "<table border=\"1\" class=\"dataframe\">\n",
       "  <thead>\n",
       "    <tr style=\"text-align: right;\">\n",
       "      <th></th>\n",
       "      <th>Education</th>\n",
       "      <th>Occupation</th>\n",
       "      <th>Gender</th>\n",
       "      <th>MaritalStatus</th>\n",
       "      <th>HomeOwnerFlag</th>\n",
       "      <th>NumberCarsOwned</th>\n",
       "      <th>NumberChildrenAtHome</th>\n",
       "      <th>TotalChildren</th>\n",
       "      <th>YearlyIncome</th>\n",
       "      <th>AgeGroup</th>\n",
       "      <th>SqrtYearlyIncome</th>\n",
       "    </tr>\n",
       "  </thead>\n",
       "  <tbody>\n",
       "    <tr>\n",
       "      <th>495</th>\n",
       "      <td>Graduate Degree</td>\n",
       "      <td>Skilled Manual</td>\n",
       "      <td>F</td>\n",
       "      <td>S</td>\n",
       "      <td>0</td>\n",
       "      <td>0</td>\n",
       "      <td>0</td>\n",
       "      <td>0</td>\n",
       "      <td>97084</td>\n",
       "      <td>Between 25 and 45 years</td>\n",
       "      <td>311.583055</td>\n",
       "    </tr>\n",
       "    <tr>\n",
       "      <th>496</th>\n",
       "      <td>Partial College</td>\n",
       "      <td>Management</td>\n",
       "      <td>F</td>\n",
       "      <td>S</td>\n",
       "      <td>0</td>\n",
       "      <td>4</td>\n",
       "      <td>4</td>\n",
       "      <td>4</td>\n",
       "      <td>110762</td>\n",
       "      <td>Between 45 and 55 years</td>\n",
       "      <td>332.809255</td>\n",
       "    </tr>\n",
       "    <tr>\n",
       "      <th>497</th>\n",
       "      <td>Bachelors</td>\n",
       "      <td>Management</td>\n",
       "      <td>F</td>\n",
       "      <td>S</td>\n",
       "      <td>0</td>\n",
       "      <td>4</td>\n",
       "      <td>3</td>\n",
       "      <td>3</td>\n",
       "      <td>138097</td>\n",
       "      <td>Over 55 years</td>\n",
       "      <td>371.614047</td>\n",
       "    </tr>\n",
       "    <tr>\n",
       "      <th>498</th>\n",
       "      <td>Partial College</td>\n",
       "      <td>Professional</td>\n",
       "      <td>F</td>\n",
       "      <td>M</td>\n",
       "      <td>1</td>\n",
       "      <td>1</td>\n",
       "      <td>0</td>\n",
       "      <td>2</td>\n",
       "      <td>101465</td>\n",
       "      <td>Between 25 and 45 years</td>\n",
       "      <td>318.535712</td>\n",
       "    </tr>\n",
       "    <tr>\n",
       "      <th>499</th>\n",
       "      <td>High School</td>\n",
       "      <td>Skilled Manual</td>\n",
       "      <td>F</td>\n",
       "      <td>S</td>\n",
       "      <td>0</td>\n",
       "      <td>2</td>\n",
       "      <td>0</td>\n",
       "      <td>4</td>\n",
       "      <td>19108</td>\n",
       "      <td>Between 45 and 55 years</td>\n",
       "      <td>138.231690</td>\n",
       "    </tr>\n",
       "  </tbody>\n",
       "</table>\n",
       "</div>"
      ],
      "text/plain": [
       "           Education      Occupation Gender MaritalStatus  HomeOwnerFlag  \\\n",
       "495  Graduate Degree  Skilled Manual      F             S              0   \n",
       "496  Partial College      Management      F             S              0   \n",
       "497       Bachelors       Management      F             S              0   \n",
       "498  Partial College    Professional      F             M              1   \n",
       "499      High School  Skilled Manual      F             S              0   \n",
       "\n",
       "     NumberCarsOwned  NumberChildrenAtHome  TotalChildren  YearlyIncome  \\\n",
       "495                0                     0              0         97084   \n",
       "496                4                     4              4        110762   \n",
       "497                4                     3              3        138097   \n",
       "498                1                     0              2        101465   \n",
       "499                2                     0              4         19108   \n",
       "\n",
       "                    AgeGroup  SqrtYearlyIncome  \n",
       "495  Between 25 and 45 years        311.583055  \n",
       "496  Between 45 and 55 years        332.809255  \n",
       "497            Over 55 years        371.614047  \n",
       "498  Between 25 and 45 years        318.535712  \n",
       "499  Between 45 and 55 years        138.231690  "
      ]
     },
     "execution_count": 24,
     "metadata": {},
     "output_type": "execute_result"
    }
   ],
   "source": [
    "evaluation.tail()"
   ]
  },
  {
   "cell_type": "code",
   "execution_count": 25,
   "metadata": {},
   "outputs": [],
   "source": [
    "# Create model matrix for final evaluation on AW_test\n",
    "categorical_columns = ['Occupation', 'Gender', 'MaritalStatus', 'HomeOwnerFlag', 'AgeGroup', \n",
    "                       'NumberCarsOwned', 'NumberChildrenAtHome', 'TotalChildren']\n",
    "\n",
    "AW_test = encode_string(evaluation['Education'])\n",
    "for col in categorical_columns:\n",
    "    temp = encode_string(evaluation[col])\n",
    "    AW_test = np.concatenate([AW_test, temp], axis = 1)\n",
    "\n",
    "# Concatenate numeric features to model matrix\n",
    "AW_test = np.concatenate([AW_test, np.array(evaluation[['SqrtYearlyIncome']])], axis = 1)\n",
    "# Scale numeric features using same scalar object for train data\n",
    "AW_test[:,37:] = scaler.transform(AW_test[:,37:])"
   ]
  },
  {
   "cell_type": "code",
   "execution_count": 26,
   "metadata": {},
   "outputs": [
    {
     "name": "stdout",
     "output_type": "stream",
     "text": [
      "              0\n",
      "0     46.884841\n",
      "1    109.805166\n",
      "2     47.666790\n",
      "3     86.257450\n",
      "4     57.378805\n",
      "..          ...\n",
      "495   50.398430\n",
      "496   81.539283\n",
      "497   70.196398\n",
      "498   55.240471\n",
      "499   37.903958\n",
      "\n",
      "[500 rows x 1 columns]\n"
     ]
    }
   ],
   "source": [
    "# Compute predictions on AW_test and exponentiate predicted LogAvgMonthSpend values to bring back to original scale\n",
    "predictions = lin_mod.predict(AW_test)\n",
    "predictions = np.exp(predictions)\n",
    "print(pd.DataFrame(predictions))\n",
    "# pd.DataFrame(predictions).to_csv('challenge3_predictions.csv', sep = '\\n', index = False, header = False)\n",
    "\n",
    "# Note: 3.117595749 RMSE on AW_test"
   ]
  },
  {
   "cell_type": "code",
   "execution_count": null,
   "metadata": {},
   "outputs": [],
   "source": []
  }
 ],
 "metadata": {
  "kernelspec": {
   "display_name": "Python 3",
   "language": "python",
   "name": "python3"
  },
  "language_info": {
   "codemirror_mode": {
    "name": "ipython",
    "version": 3
   },
   "file_extension": ".py",
   "mimetype": "text/x-python",
   "name": "python",
   "nbconvert_exporter": "python",
   "pygments_lexer": "ipython3",
   "version": "3.7.5"
  }
 },
 "nbformat": 4,
 "nbformat_minor": 2
}
